{
  "nbformat": 4,
  "nbformat_minor": 0,
  "metadata": {
    "colab": {
      "provenance": [],
      "authorship_tag": "ABX9TyPjZXuVLrix/lXPTyrcTCsJ",
      "include_colab_link": true
    },
    "kernelspec": {
      "name": "python3",
      "display_name": "Python 3"
    },
    "language_info": {
      "name": "python"
    }
  },
  "cells": [
    {
      "cell_type": "markdown",
      "metadata": {
        "id": "view-in-github",
        "colab_type": "text"
      },
      "source": [
        "<a href=\"https://colab.research.google.com/github/techySPHINX/Python_Libraries_Learning/blob/main/numpy_starting.ipynb\" target=\"_parent\"><img src=\"https://colab.research.google.com/assets/colab-badge.svg\" alt=\"Open In Colab\"/></a>"
      ]
    },
    {
      "cell_type": "code",
      "execution_count": 5,
      "metadata": {
        "colab": {
          "base_uri": "https://localhost:8080/"
        },
        "id": "oQQVt_mtj0Fs",
        "outputId": "120007e1-80ac-45c3-ea32-a6c23224b379"
      },
      "outputs": [
        {
          "output_type": "stream",
          "name": "stdout",
          "text": [
            "<class 'numpy.ndarray'>\n",
            "(5,)\n",
            "1\n"
          ]
        }
      ],
      "source": [
        "import numpy as np\n",
        "ls =[1,2,3,4,5]\n",
        "array = np.array(ls)\n",
        "print(type(array))\n",
        "print(array.shape)\n",
        "print(array.ndim)"
      ]
    },
    {
      "cell_type": "code",
      "source": [
        "array = np.arange(5)\n",
        "array\n"
      ],
      "metadata": {
        "colab": {
          "base_uri": "https://localhost:8080/"
        },
        "id": "nDLDS29qkr2A",
        "outputId": "cb7c40e5-9447-4b38-f372-657847472433"
      },
      "execution_count": 13,
      "outputs": [
        {
          "output_type": "execute_result",
          "data": {
            "text/plain": [
              "array([0, 1, 2, 3, 4])"
            ]
          },
          "metadata": {},
          "execution_count": 13
        }
      ]
    },
    {
      "cell_type": "code",
      "source": [
        "arr = np.arange(0,10,2,dtype='float')\n",
        "arr"
      ],
      "metadata": {
        "colab": {
          "base_uri": "https://localhost:8080/"
        },
        "id": "j5x9muESmAbf",
        "outputId": "0c78604a-e9f4-4267-96fb-5fdc8881fbfc"
      },
      "execution_count": 12,
      "outputs": [
        {
          "output_type": "execute_result",
          "data": {
            "text/plain": [
              "array([0., 2., 4., 6., 8.])"
            ]
          },
          "metadata": {},
          "execution_count": 12
        }
      ]
    },
    {
      "cell_type": "code",
      "source": [
        "arr = np.zeros((3,3))\n",
        "arr"
      ],
      "metadata": {
        "colab": {
          "base_uri": "https://localhost:8080/"
        },
        "id": "VGMIuiwcmJx4",
        "outputId": "b7b2a8e0-411f-4693-df69-91668c4fe9af"
      },
      "execution_count": 15,
      "outputs": [
        {
          "output_type": "execute_result",
          "data": {
            "text/plain": [
              "array([[0., 0., 0.],\n",
              "       [0., 0., 0.],\n",
              "       [0., 0., 0.]])"
            ]
          },
          "metadata": {},
          "execution_count": 15
        }
      ]
    },
    {
      "cell_type": "code",
      "source": [
        "import numpy as np\n",
        "\n",
        "ls = [[1,2,3],[4,5,6]]\n",
        "arr1 = np.array(ls)\n",
        "arr1.shape\n",
        "\n",
        "ls1 = [[1,2],[3,4],[5,6]]\n",
        "arr2 = np.array(ls1)\n",
        "arr2.shape\n",
        "\n",
        "np.dot(arr1,arr2)"
      ],
      "metadata": {
        "colab": {
          "base_uri": "https://localhost:8080/"
        },
        "id": "w17PQCbQ_1JJ",
        "outputId": "49d02d2b-275b-450b-fd33-f2f9d2c68fa7"
      },
      "execution_count": 4,
      "outputs": [
        {
          "output_type": "execute_result",
          "data": {
            "text/plain": [
              "array([[22, 28],\n",
              "       [49, 64]])"
            ]
          },
          "metadata": {},
          "execution_count": 4
        }
      ]
    },
    {
      "cell_type": "code",
      "source": [
        "import numpy as np\n",
        "\n",
        "arr1 = np.arange(10).reshape(2, 5)  # 2D array\n",
        "arr2 = np.arange(5)  # 1D array\n",
        "\n",
        "# Element-wise addition using broadcasting\n",
        "result = arr1 + arr2\n",
        "\n",
        "print(result)\n"
      ],
      "metadata": {
        "colab": {
          "base_uri": "https://localhost:8080/"
        },
        "id": "L9eSDG4vCPsR",
        "outputId": "e06b8260-ecd1-447d-cd7c-9b57b87787d7"
      },
      "execution_count": 1,
      "outputs": [
        {
          "output_type": "stream",
          "name": "stdout",
          "text": [
            "[[ 0  2  4  6  8]\n",
            " [ 5  7  9 11 13]]\n"
          ]
        }
      ]
    },
    {
      "cell_type": "code",
      "source": [
        "import numpy as np\n",
        "#fancy indexing\n",
        "data = np.arange(12).reshape(3, 4)\n",
        "indices = np.array([1, 0, 2])\n",
        "\n",
        "selected_data = data[indices]\n",
        "\n",
        "print(selected_data)\n"
      ],
      "metadata": {
        "colab": {
          "base_uri": "https://localhost:8080/"
        },
        "id": "12obr1v3Aep7",
        "outputId": "13353acd-3b9e-4ba0-c92a-3ad05d3d7089"
      },
      "execution_count": 2,
      "outputs": [
        {
          "output_type": "stream",
          "name": "stdout",
          "text": [
            "[[ 4  5  6  7]\n",
            " [ 0  1  2  3]\n",
            " [ 8  9 10 11]]\n"
          ]
        }
      ]
    },
    {
      "cell_type": "code",
      "source": [
        "data = np.array([1, 4, 2, 5, 3])\n",
        "condition = data % 2 == 0  # Boolean mask (even numbers)\n",
        "\n",
        "# Filter elements using boolean mask\n",
        "even_numbers = data[condition]\n",
        "\n",
        "print(even_numbers)\n"
      ],
      "metadata": {
        "colab": {
          "base_uri": "https://localhost:8080/"
        },
        "id": "iuRvWGaMBFtJ",
        "outputId": "58416fc1-fb89-465c-df61-ee2e8fa6ef8c"
      },
      "execution_count": 3,
      "outputs": [
        {
          "output_type": "stream",
          "name": "stdout",
          "text": [
            "[4 2]\n"
          ]
        }
      ]
    },
    {
      "cell_type": "code",
      "source": [
        "import numpy as np\n",
        "\n",
        "data_int32 = np.random.randint(1, 256, size=1000000, dtype=np.int32)\n",
        "data_uint8 = data_int32.astype(np.uint8)  # Conversion\n",
        "\n",
        "print(f\"Memory usage with int32: {data_int32.nbytes / (1024 * 1024):.2f} MB\")\n",
        "print(f\"Memory usage with uint8: {data_uint8.nbytes / (1024 * 1024):.2f} MB\")\n"
      ],
      "metadata": {
        "colab": {
          "base_uri": "https://localhost:8080/"
        },
        "id": "XmqJUbL9B5-0",
        "outputId": "79e445fc-4caa-48bd-ec19-565ea9a9bae8"
      },
      "execution_count": 4,
      "outputs": [
        {
          "output_type": "stream",
          "name": "stdout",
          "text": [
            "Memory usage with int32: 3.81 MB\n",
            "Memory usage with uint8: 0.95 MB\n"
          ]
        }
      ]
    },
    {
      "cell_type": "code",
      "source": [
        "# Original array\n",
        "original_data = np.arange(10)\n",
        "\n",
        "# View (shares memory with original)\n",
        "data_view = original_data.view()\n",
        "\n",
        "# Modifications on the view affect the original\n",
        "data_view[:] = 2 * original_data\n",
        "\n",
        "print(f\"Original data after view modification: {original_data}\")\n",
        "\n",
        "# Copy (creates a new array)\n",
        "data_copy = original_data.copy()\n",
        "\n",
        "# Modifications on the copy don't affect the original\n",
        "data_copy[:] = 3 * original_data\n",
        "\n",
        "print(f\"Original data after copy modification: {original_data}\")\n"
      ],
      "metadata": {
        "colab": {
          "base_uri": "https://localhost:8080/"
        },
        "id": "UBbcM5_KCXAw",
        "outputId": "0ada88c7-de2a-4812-d926-4a843fb9ef89"
      },
      "execution_count": 5,
      "outputs": [
        {
          "output_type": "stream",
          "name": "stdout",
          "text": [
            "Original data after view modification: [ 0  2  4  6  8 10 12 14 16 18]\n",
            "Original data after copy modification: [ 0  2  4  6  8 10 12 14 16 18]\n"
          ]
        }
      ]
    },
    {
      "cell_type": "code",
      "source": [
        "large_array = np.random.rand(10000)\n",
        "\n",
        "# Using `where` for lazy evaluation\n",
        "condition = large_array > 0.5\n",
        "filtered_data = large_array[condition]  # Computation happens here\n",
        "#lazy evaluation\n",
        "print(f\"Shape of filtered data (lazy evaluation): {filtered_data.shape}\")\n",
        "\n",
        "filtered_data_loop = []\n",
        "for value in large_array:\n",
        "    if value > 0.5:\n",
        "        filtered_data_loop.append(value)\n",
        "\n",
        "filtered_data_loop = np.array(filtered_data_loop)\n",
        "print(f\"Shape of filtered data (explicit loop): {filtered_data_loop.shape}\")\n"
      ],
      "metadata": {
        "colab": {
          "base_uri": "https://localhost:8080/"
        },
        "id": "vhZ7PmM1DJO2",
        "outputId": "264a04ab-b9a7-4bdf-efe5-264cace5875d"
      },
      "execution_count": 6,
      "outputs": [
        {
          "output_type": "stream",
          "name": "stdout",
          "text": [
            "Shape of filtered data (lazy evaluation): (5013,)\n",
            "Shape of filtered data (explicit loop): (5013,)\n"
          ]
        }
      ]
    },
    {
      "cell_type": "code",
      "source": [
        "import numpy as np\n",
        "data = np.random.randint(1, 100, size=10)\n",
        "\n",
        "cond1 = data > 50\n",
        "cond2 = data % 3 == 0\n",
        "\n",
        "combined_condition = np.logical_and(cond1, cond2)\n",
        "filtered_data = data[combined_condition]\n",
        "\n",
        "dcombined_condition = np.logical_or(cond1,cond2)\n",
        "filteredd_data = data[dcombined_condition]\n",
        "\n",
        "print(\"Original data:\", data)\n",
        "print(\"Filtered data (elements > 50 and divisible by 3):\", filtered_data)\n",
        "print(\"Filtered data (elements > 50 or divisible by 3):\", filteredd_data)\n"
      ],
      "metadata": {
        "colab": {
          "base_uri": "https://localhost:8080/"
        },
        "id": "mU_fmikQEXwx",
        "outputId": "99889b54-c360-4dca-a2e2-a5a3812090f3"
      },
      "execution_count": 1,
      "outputs": [
        {
          "output_type": "stream",
          "name": "stdout",
          "text": [
            "Original data: [99 53 92 59 63 16 60  2 97  4]\n",
            "Filtered data (elements > 50 and divisible by 3): [99 63 60]\n",
            "Filtered data (elements > 50 or divisible by 3): [99 53 92 59 63 60 97]\n"
          ]
        }
      ]
    },
    {
      "cell_type": "code",
      "source": [
        "import numpy as np\n",
        "from numpy.linalg import inv\n",
        "\n",
        "A = np.array([[2, 1], [1, 3]])\n",
        "# Solve linear system Ax = b for x (x = inv(A) * b)\n",
        "b = np.array([5, 1])\n",
        "x = inv(A) @ b\n",
        "\n",
        "print(\"Solution (x):\", x)\n"
      ],
      "metadata": {
        "colab": {
          "base_uri": "https://localhost:8080/"
        },
        "id": "Z_Sgd9lSFOkM",
        "outputId": "375d8339-df90-4638-be13-229e65f9670a"
      },
      "execution_count": 8,
      "outputs": [
        {
          "output_type": "stream",
          "name": "stdout",
          "text": [
            "Solution (x): [ 2.8 -0.6]\n"
          ]
        }
      ]
    }
  ]
}