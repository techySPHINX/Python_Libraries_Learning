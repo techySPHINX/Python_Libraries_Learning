{
  "nbformat": 4,
  "nbformat_minor": 0,
  "metadata": {
    "colab": {
      "provenance": [],
      "authorship_tag": "ABX9TyMDmw4GUZjtE75wpizbMgJE",
      "include_colab_link": true
    },
    "kernelspec": {
      "name": "python3",
      "display_name": "Python 3"
    },
    "language_info": {
      "name": "python"
    }
  },
  "cells": [
    {
      "cell_type": "markdown",
      "metadata": {
        "id": "view-in-github",
        "colab_type": "text"
      },
      "source": [
        "<a href=\"https://colab.research.google.com/github/techySPHINX/Python_Libraries_Learning/blob/main/pandas.ipynb\" target=\"_parent\"><img src=\"https://colab.research.google.com/assets/colab-badge.svg\" alt=\"Open In Colab\"/></a>"
      ]
    },
    {
      "cell_type": "code",
      "execution_count": 5,
      "metadata": {
        "id": "SZHcCp5gmxR_",
        "colab": {
          "base_uri": "https://localhost:8080/"
        },
        "outputId": "710ffdbd-b109-4479-9738-1462119f757a"
      },
      "outputs": [
        {
          "output_type": "stream",
          "name": "stdout",
          "text": [
            "0    3\n",
            "1    4\n",
            "2    5\n",
            "3    6\n",
            "4    7\n",
            "5    8\n",
            "dtype: int64\n"
          ]
        }
      ],
      "source": [
        "import pandas as pd\n",
        "x = [3, 4, 5, 6, 7, 8]\n",
        "var = pd.Series(x)\n",
        "print(var)"
      ]
    }
  ]
}