{
  "nbformat": 4,
  "nbformat_minor": 0,
  "metadata": {
    "colab": {
      "provenance": [],
      "authorship_tag": "ABX9TyPwtznJdohCCKz4QRMnVDwI",
      "include_colab_link": true
    },
    "kernelspec": {
      "name": "python3",
      "display_name": "Python 3"
    },
    "language_info": {
      "name": "python"
    }
  },
  "cells": [
    {
      "cell_type": "markdown",
      "metadata": {
        "id": "view-in-github",
        "colab_type": "text"
      },
      "source": [
        "<a href=\"https://colab.research.google.com/github/techySPHINX/Python_Libraries_Learning/blob/main/pandas_dataframes.ipynb\" target=\"_parent\"><img src=\"https://colab.research.google.com/assets/colab-badge.svg\" alt=\"Open In Colab\"/></a>"
      ]
    },
    {
      "cell_type": "code",
      "execution_count": 3,
      "metadata": {
        "colab": {
          "base_uri": "https://localhost:8080/"
        },
        "id": "ZOSSdmuPym2L",
        "outputId": "310c94d4-e639-438d-b183-350c5999ff64"
      },
      "outputs": [
        {
          "output_type": "stream",
          "name": "stdout",
          "text": [
            "   0\n",
            "0  1\n",
            "1  2\n",
            "2  3\n",
            "3  4\n",
            "4  5\n",
            "5  6\n",
            "<class 'pandas.core.frame.DataFrame'>\n"
          ]
        }
      ],
      "source": [
        "import pandas as pd\n",
        "# for 2d data structures we learn dataframes\n",
        "\n",
        "l = [1,2,3,4,5,6]\n",
        "var = pd.DataFrame(l)\n",
        "print(var)\n",
        "print(type(var))"
      ]
    },
    {
      "cell_type": "code",
      "source": [
        "my_dict = {\n",
        "    \"Name\": [\"Alice\", \"Bob\", \"Charlie\"],\n",
        "    \"Age\": [25, 30, 28],\n",
        "    \"City\": [\"New York\", \"London\", \"Paris\"]\n",
        "}\n",
        "\n",
        "# Create a DataFrame from the dictionary\n",
        "df = pd.DataFrame(my_dict)\n",
        "\n",
        "# Display the DataFrame\n",
        "print(df)\n",
        "print(type(df))\n",
        "#here in dataframe length of particlar list inside dictionary must be same otherwise it would show error"
      ],
      "metadata": {
        "colab": {
          "base_uri": "https://localhost:8080/"
        },
        "id": "Q_xx7F2Szn1C",
        "outputId": "b08d2d4b-16cb-4c57-9211-66bc073ea7de"
      },
      "execution_count": 11,
      "outputs": [
        {
          "output_type": "stream",
          "name": "stdout",
          "text": [
            "      Name  Age      City\n",
            "0    Alice   25  New York\n",
            "1      Bob   30    London\n",
            "2  Charlie   28     Paris\n",
            "<class 'pandas.core.frame.DataFrame'>\n"
          ]
        }
      ]
    },
    {
      "cell_type": "code",
      "source": [
        "my_dict = {\n",
        "    \"Name\": [\"Alice\", \"Bob\", \"Charlie\"],\n",
        "    \"Age\": [25, 30, 28],\n",
        "    \"City\": [\"New York\", \"London\", \"Paris\"]\n",
        "}\n",
        "\n",
        "# Create a DataFrame from the dictionary\n",
        "df = pd.DataFrame(my_dict, columns=[\"Age\"],index=[\"a\",\"s\",\"c\"])\n",
        "print(df)"
      ],
      "metadata": {
        "colab": {
          "base_uri": "https://localhost:8080/"
        },
        "id": "a6ANfdF90Z_C",
        "outputId": "80e40ee4-e1e5-4394-ca62-c41f7c83a911"
      },
      "execution_count": 10,
      "outputs": [
        {
          "output_type": "stream",
          "name": "stdout",
          "text": [
            "   Age\n",
            "a   25\n",
            "s   30\n",
            "c   28\n"
          ]
        }
      ]
    },
    {
      "cell_type": "code",
      "source": [
        "my_dict = {\n",
        "    \"Name\": [\"Alice\", \"Bob\", \"Charlie\"],\n",
        "    \"Age\": [25, 30, 28],\n",
        "    \"City\": [\"New York\", \"London\", \"Paris\"]\n",
        "}\n",
        "\n",
        "# Create a DataFrame from the dictionary\n",
        "df = pd.DataFrame(my_dict, columns=[\"Age\",\"Name\"])\n",
        "print(df)\n",
        "print(df[\"Name\"][1])"
      ],
      "metadata": {
        "colab": {
          "base_uri": "https://localhost:8080/"
        },
        "id": "OOJi7htk2Pjq",
        "outputId": "c806a6af-0905-4316-d732-01752b96bed3"
      },
      "execution_count": 15,
      "outputs": [
        {
          "output_type": "stream",
          "name": "stdout",
          "text": [
            "   Age     Name\n",
            "0   25    Alice\n",
            "1   30      Bob\n",
            "2   28  Charlie\n",
            "Bob\n"
          ]
        }
      ]
    },
    {
      "cell_type": "code",
      "source": [
        "# Create lists of lists (data)\n",
        "data = [\n",
        "    [\"Apple\", 10, 3.5],\n",
        "    [\"Banana\", 15, 4.2],\n",
        "    [\"Orange\", 8, 2.8]\n",
        "]\n",
        "\n",
        "# Create column names (recommended for clarity)\n",
        "columns = [\"Fruit\", \"Quantity\", \"Price\"]\n",
        "\n",
        "# Create a DataFrame from the data and column names (if provided)\n",
        "df = pd.DataFrame(data,columns=columns)\n",
        "\n",
        "print(df)\n",
        "\n",
        "# Access the first column (index 0) using `.iloc`\n",
        "fruits_only = df.iloc[:, 0]\n",
        "\n",
        "# Print the \"Fruit\" column (now a Series)\n",
        "print(fruits_only)\n"
      ],
      "metadata": {
        "colab": {
          "base_uri": "https://localhost:8080/"
        },
        "id": "cIJ4D4m73BDy",
        "outputId": "8776e3b6-f5a9-4967-def6-24b8979199b9"
      },
      "execution_count": 23,
      "outputs": [
        {
          "output_type": "stream",
          "name": "stdout",
          "text": [
            "    Fruit  Quantity  Price\n",
            "0   Apple        10    3.5\n",
            "1  Banana        15    4.2\n",
            "2  Orange         8    2.8\n",
            "0     Apple\n",
            "1    Banana\n",
            "2    Orange\n",
            "Name: Fruit, dtype: object\n"
          ]
        }
      ]
    },
    {
      "cell_type": "code",
      "source": [
        "import pandas as pd\n",
        "\n",
        "# Create two Series\n",
        "fruits = pd.Series([\"Apple\", \"Banana\", \"Orange\"])\n",
        "prices = pd.Series([10, 15, 8])\n",
        "\n",
        "# Combine Series into a DataFrame using a dictionary\n",
        "data = {\"Fruits\": fruits, \"Prices\": prices}\n",
        "df = pd.DataFrame(data)\n",
        "\n",
        "# Print the DataFrame\n",
        "print(df)\n",
        "print(type(df))\n"
      ],
      "metadata": {
        "colab": {
          "base_uri": "https://localhost:8080/"
        },
        "id": "XqnV4CBl4Png",
        "outputId": "a7057e69-46b6-4b93-a2fe-8e768306dc6e"
      },
      "execution_count": 25,
      "outputs": [
        {
          "output_type": "stream",
          "name": "stdout",
          "text": [
            "   Fruits  Prices\n",
            "0   Apple      10\n",
            "1  Banana      15\n",
            "2  Orange       8\n",
            "<class 'pandas.core.frame.DataFrame'>\n"
          ]
        }
      ]
    }
  ]
}