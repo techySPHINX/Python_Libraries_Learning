{
  "nbformat": 4,
  "nbformat_minor": 0,
  "metadata": {
    "colab": {
      "provenance": [],
      "authorship_tag": "ABX9TyMH8uYTT7Mqv7zyDxos5TyI",
      "include_colab_link": true
    },
    "kernelspec": {
      "name": "python3",
      "display_name": "Python 3"
    },
    "language_info": {
      "name": "python"
    }
  },
  "cells": [
    {
      "cell_type": "markdown",
      "metadata": {
        "id": "view-in-github",
        "colab_type": "text"
      },
      "source": [
        "<a href=\"https://colab.research.google.com/github/techySPHINX/Python_Libraries_Learning/blob/main/pandas_series.ipynb\" target=\"_parent\"><img src=\"https://colab.research.google.com/assets/colab-badge.svg\" alt=\"Open In Colab\"/></a>"
      ]
    },
    {
      "cell_type": "code",
      "source": [
        "import pandas as pd\n",
        "x = [3, 4, 5, 6, 7, 8]\n",
        "var = pd.Series(x,index=['a','s','d','f','g','h'],dtype=\"float\",name=\"python\")\n",
        "print(var)\n",
        "print(type(var))\n",
        "print(var[2])"
      ],
      "metadata": {
        "colab": {
          "base_uri": "https://localhost:8080/"
        },
        "id": "B3f1IoVgsm9M",
        "outputId": "5944ced4-e690-4f59-c2fb-62b166d99b3c"
      },
      "execution_count": 12,
      "outputs": [
        {
          "output_type": "stream",
          "name": "stdout",
          "text": [
            "a    3.0\n",
            "s    4.0\n",
            "d    5.0\n",
            "f    6.0\n",
            "g    7.0\n",
            "h    8.0\n",
            "Name: python, dtype: float64\n",
            "<class 'pandas.core.series.Series'>\n",
            "5.0\n"
          ]
        }
      ]
    },
    {
      "cell_type": "code",
      "source": [
        "names = [\"Python\", \"C\", \"C++\", \"Java\"]\n",
        "scores = [12, 13, 14, 15]\n",
        "ranks = [1, 4, 3, 2]\n",
        "\n",
        "# Create a dictionary\n",
        "data = {\"Name\": names, \"Score\": scores, \"Rank\": ranks}\n",
        "\n",
        "# Create a Pandas DataFrame from the dictionary\n",
        "df = pd.DataFrame(data)\n",
        "\n",
        "# Print the DataFrame\n",
        "print(df.to_string())"
      ],
      "metadata": {
        "colab": {
          "base_uri": "https://localhost:8080/"
        },
        "id": "BluLsSNGsz8J",
        "outputId": "05645f0d-a677-4d73-f254-b724517a30cc"
      },
      "execution_count": 13,
      "outputs": [
        {
          "output_type": "stream",
          "name": "stdout",
          "text": [
            "     Name  Score  Rank\n",
            "0  Python     12     1\n",
            "1       C     13     4\n",
            "2     C++     14     3\n",
            "3    Java     15     2\n"
          ]
        }
      ]
    },
    {
      "cell_type": "code",
      "source": [
        "names = [\"Python\", \"C\", \"C++\", \"Java\"]\n",
        "scores = [12, 13, 14, 15]\n",
        "ranks = [1, 4, 3, 2]\n",
        "\n",
        "# Create a dictionary\n",
        "data = {\"Name\": names, \"Score\": scores, \"Rank\": ranks}\n",
        "\n",
        "var1 = pd.Series(data)\n",
        "var1   # here they are mixed datas hence it is showing dtype as object"
      ],
      "metadata": {
        "colab": {
          "base_uri": "https://localhost:8080/"
        },
        "id": "UkEayMN5wLDv",
        "outputId": "61002739-f2f0-4dc5-8094-9c9156185510"
      },
      "execution_count": 14,
      "outputs": [
        {
          "output_type": "execute_result",
          "data": {
            "text/plain": [
              "Name     [Python, C, C++, Java]\n",
              "Score          [12, 13, 14, 15]\n",
              "Rank               [1, 4, 3, 2]\n",
              "dtype: object"
            ]
          },
          "metadata": {},
          "execution_count": 14
        }
      ]
    },
    {
      "cell_type": "code",
      "source": [
        "s = pd.Series(12, index=[1,2,3,4,5,6,7])\n",
        "print(s)\n",
        "print(type(s))"
      ],
      "metadata": {
        "colab": {
          "base_uri": "https://localhost:8080/"
        },
        "id": "RmN-gDRWwl8s",
        "outputId": "6008f662-577e-4c8a-cb52-671b3cb335d8"
      },
      "execution_count": 15,
      "outputs": [
        {
          "output_type": "stream",
          "name": "stdout",
          "text": [
            "1    12\n",
            "2    12\n",
            "3    12\n",
            "4    12\n",
            "5    12\n",
            "6    12\n",
            "7    12\n",
            "dtype: int64\n",
            "<class 'pandas.core.series.Series'>\n"
          ]
        }
      ]
    },
    {
      "cell_type": "code",
      "source": [
        "s1 = pd.Series(12, index=[1,2,3,4,5,6,7])\n",
        "s2 = pd.Series(12, index=[1,2,3,4]) #here in this scenario pandas has a better experience while not showing BROADCAST ERROR as shown in numpy when we add or subtract\n",
        "print(s1+s2)"
      ],
      "metadata": {
        "colab": {
          "base_uri": "https://localhost:8080/"
        },
        "id": "wYNbeFUaxRSK",
        "outputId": "ad4cd3d4-81c3-4a5f-c571-9a25a49b0e00"
      },
      "execution_count": 16,
      "outputs": [
        {
          "output_type": "stream",
          "name": "stdout",
          "text": [
            "1    24.0\n",
            "2    24.0\n",
            "3    24.0\n",
            "4    24.0\n",
            "5     NaN\n",
            "6     NaN\n",
            "7     NaN\n",
            "dtype: float64\n"
          ]
        }
      ]
    }
  ]
}